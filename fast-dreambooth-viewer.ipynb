{
  "cells": [
    {
      "cell_type": "code",
      "execution_count": null,
      "metadata": {
        "cellView": "form",
        "id": "CFWtw-6EPrKi"
      },
      "outputs": [],
      "source": [
        "!git clone --depth 1 --branch master https://github.com/AUTOMATIC1111/stable-diffusion-webui\n",
        "%cd /content/ \n",
        "!wget -q -i https://raw.githubusercontent.com/TheLastBen/fast-stable-diffusion/main/Dependencies/A1111.txt\n",
        "!dpkg -i *.deb\n",
        "!tar -C / --zstd -xf sd.tar.zst \n",
        "!tar -C / --zstd -xf A1111_dep.tar.zst\n",
        "!rm *.deb | rm *.zst | rm *.txt\n",
        "%cd /content/stable-diffusion-webui/modules\n",
        "!wget -O paths.py https://raw.githubusercontent.com/TheLastBen/fast-stable-diffusion/main/AUTOMATIC1111_files/paths.py\n",
        "!wget -O extras.py https://raw.githubusercontent.com/AUTOMATIC1111/stable-diffusion-webui/master/modules/extras.py\n",
        "!wget -O sd_models.py https://raw.githubusercontent.com/AUTOMATIC1111/stable-diffusion-webui/master/modules/sd_models.py\n",
        "!wget -q -O /usr/local/lib/python3.8/dist-packages/gradio/blocks.py https://raw.githubusercontent.com/TheLastBen/fast-stable-diffusion/main/AUTOMATIC1111_files/blocks.py\n",
        "%cd /content/stable-diffusion-webui\n",
        "\n",
        "MODEL_LINK = \"\" #@param {type:\"string\"}\n",
        "if 'google' in MODEL_LINK:\n",
        "    !gdown --fuzzy -O /content/stable-diffusion-webui/models/Stable-diffusion/model.ckpt $MODEL_LINK\n",
        "\n",
        "elif MODEL_LINK!='':\n",
        "    !wget -O /content/stable-diffusion-webui/models/Stable-diffusion/model.ckpt $MODEL_LINK\n",
        "\n",
        "else:\n",
        "    print('There is no link, download the model yourself.')"
      ]
    },
    {
      "cell_type": "code",
      "execution_count": null,
      "metadata": {
        "colab": {
          "base_uri": "https://localhost:8080/"
        },
        "id": "eG-oDa6PpARq",
        "outputId": "c3945b22-d858-4efe-d6c5-6a17b0f5ec4e"
      },
      "outputs": [],
      "source": [
        "!python webui.py --share --api --disable-safe-unpickle --enable-insecure-extension-access --xformers"
      ]
    }
  ],
  "metadata": {
    "accelerator": "GPU",
    "colab": {
      "provenance": []
    },
    "kernelspec": {
      "display_name": "Python 3.10.6 ('tclone')",
      "language": "python",
      "name": "python3"
    },
    "language_info": {
      "name": "python",
      "version": "3.10.6"
    },
    "vscode": {
      "interpreter": {
        "hash": "113a3357c6ff3d72cefda01ac5efe5eeffa588f0e82f616bc12164add7923a15"
      }
    }
  },
  "nbformat": 4,
  "nbformat_minor": 0
}
